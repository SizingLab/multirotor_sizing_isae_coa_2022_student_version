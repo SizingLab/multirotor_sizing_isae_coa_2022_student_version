{
 "cells": [
  {
   "cell_type": "code",
   "execution_count": 1,
   "id": "nervous-breeding",
   "metadata": {
    "scrolled": false
   },
   "outputs": [
    {
     "data": {
      "application/vnd.jupyter.widget-view+json": {
       "model_id": "c8d2c423426c4fb4a3184f5e158b498b",
       "version_major": 2,
       "version_minor": 0
      },
      "text/plain": [
       "Box(children=(Box(children=(Btn(children=['Copy cells'], color='blue lighten-1', height='35px', width='250px')…"
      ]
     },
     "metadata": {},
     "output_type": "display_data"
    }
   ],
   "source": [
    "from IPython.display import clear_output\n",
    "import openmdao.api as om\n",
    "clear_output()\n",
    "import importlib\n",
    "import GUI_notebook\n",
    "importlib.reload(GUI_notebook)\n",
    "vb = GUI_notebook.init(In)\n",
    "vb"
   ]
  },
  {
   "cell_type": "code",
   "execution_count": 2,
   "id": "dangerous-overhead",
   "metadata": {},
   "outputs": [],
   "source": [
    "# Import\n",
    "import math\n",
    "import numpy as np\n"
   ]
  },
  {
   "cell_type": "code",
   "execution_count": 3,
   "id": "statutory-former",
   "metadata": {},
   "outputs": [],
   "source": [
    "# Init\n",
    "Dpro_ref=11*.0254 # [m] diameter\n",
    "Mpro_ref=0.53*0.0283 # [kg] mass\n",
    "Tmot_ref=2.32  # [N.m] rated torque\n",
    "Tmot_max_ref=85/70*Tmot_ref # [N.m] max torque\n",
    "Rmot_ref=0.03  # [Ohm] resistance\n",
    "Mmot_ref=0.575 # [kg] mass\n",
    "Ktmot_ref=0.03 # [N.m/A] torque coefficient\n",
    "Tfmot_ref=0.03 # [N.m] friction torque (zero load, nominal speed) \n",
    "Mbat_ref=.329 # [kg] mass\n",
    "Cbat_ref= 3.400*3600 # [A.s] \n",
    "Vbat_ref=4*3.7 # [V] \n",
    "Imax_ref=170 # [A]\n",
    "Mfra_ref=.347 #[kg] MK7 frame\n",
    "Marm_ref=0.14#[kg] Mass of all arms\n",
    "Pesc_ref=3108 # [W] Power\n",
    "Vesc_ref=44.4 #[V]Voltage\n",
    "Mesc_ref=.115 # [kg] Mass"
   ]
  },
  {
   "cell_type": "code",
   "execution_count": 4,
   "id": "919c098d",
   "metadata": {},
   "outputs": [
    {
     "ename": "NameError",
     "evalue": "name 'k_os' is not defined",
     "output_type": "error",
     "traceback": [
      "\u001b[1;31m---------------------------------------------------------------------------\u001b[0m",
      "\u001b[1;31mNameError\u001b[0m                                 Traceback (most recent call last)",
      "\u001b[1;32mC:\\Users\\FPOLLE~1.ISA\\AppData\\Local\\Temp/ipykernel_21484/1902522335.py\u001b[0m in \u001b[0;36m<module>\u001b[1;34m\u001b[0m\n\u001b[0;32m      3\u001b[0m \u001b[1;31m#% SCENARIOS\u001b[0m\u001b[1;33m\u001b[0m\u001b[1;33m\u001b[0m\u001b[1;33m\u001b[0m\u001b[0m\n\u001b[0;32m      4\u001b[0m \u001b[1;31m# ---\u001b[0m\u001b[1;33m\u001b[0m\u001b[1;33m\u001b[0m\u001b[1;33m\u001b[0m\u001b[0m\n\u001b[1;32m----> 5\u001b[1;33m \u001b[0mM_total\u001b[0m \u001b[1;33m=\u001b[0m \u001b[0mk_os\u001b[0m \u001b[1;33m*\u001b[0m \u001b[0mM_pay\u001b[0m \u001b[1;31m# [kg] Estimation of the total mass (or equivalent weight of dynamic scenario)\u001b[0m\u001b[1;33m\u001b[0m\u001b[1;33m\u001b[0m\u001b[0m\n\u001b[0m\u001b[0;32m      6\u001b[0m \u001b[0mF_pro_hov\u001b[0m \u001b[1;33m=\u001b[0m \u001b[0mM_total\u001b[0m \u001b[1;33m*\u001b[0m \u001b[1;33m(\u001b[0m\u001b[1;36m9.81\u001b[0m\u001b[1;33m)\u001b[0m \u001b[1;33m/\u001b[0m \u001b[0mN_pro\u001b[0m \u001b[1;31m# [N] Thrust per propeller for hover\u001b[0m\u001b[1;33m\u001b[0m\u001b[1;33m\u001b[0m\u001b[0m\n\u001b[0;32m      7\u001b[0m \u001b[0mF_pro_to\u001b[0m \u001b[1;33m=\u001b[0m \u001b[0mM_total\u001b[0m \u001b[1;33m*\u001b[0m \u001b[1;33m(\u001b[0m\u001b[1;36m9.81\u001b[0m \u001b[1;33m+\u001b[0m \u001b[0ma_to\u001b[0m\u001b[1;33m)\u001b[0m \u001b[1;33m/\u001b[0m \u001b[0mN_pro\u001b[0m \u001b[1;31m# [N] Thrust per propeller for take-off\u001b[0m\u001b[1;33m\u001b[0m\u001b[1;33m\u001b[0m\u001b[0m\n",
      "\u001b[1;31mNameError\u001b[0m: name 'k_os' is not defined"
     ]
    }
   ],
   "source": [
    "#%% DRONE\n",
    "\n",
    "#% SCENARIOS\n",
    "# ---\n",
    "M_total = k_os * M_pay # [kg] Estimation of the total mass (or equivalent weight of dynamic scenario)\n",
    "F_pro_hov = M_total * (9.81) / N_pro # [N] Thrust per propeller for hover\n",
    "F_pro_to = M_total * (9.81 + a_to) / N_pro # [N] Thrust per propeller for take-off\n",
    "\n",
    "\n",
    "#% PROPELLER\n",
    "# --- \n",
    "\n",
    "C_t = 4.27e-02 + 1.44e-01 * beta_pro  # Thrust coef with T=C_T.rho.n^2.D^4 - 0.8 for de-rating of APC catalog\n",
    "C_p = -1.48e-03 + 9.72e-02 * beta_pro  # Power coef with P=C_p.rho.n^3.D^5\n",
    "\n",
    "# Propeller selection with take-off scenario\n",
    "D_pro = (F_pro_to / (C_t*rho_air*(ND_max/k_ND)**2.))**0.5 # [m] Propeller diameter\n",
    "n_pro_to = ND_max / k_ND / D_pro # [Hz] Propeller speed \n",
    "Omega_pro_to = n_pro_to * 2*np.pi # [rad/s] Propeller speed\n",
    "\n",
    "M_pro = M_pro_ref * (D_pro/D_pro_ref)**2. # [kg] Propeller mass\n",
    "\n",
    "P_pro_to = C_p * rho_air * n_pro_to**3. * D_pro**5. # [W] Power per propeller\n",
    "T_pro_to = P_pro_to / Omega_pro_to # [N*m] Propeller torque\n",
    "\n",
    "# Propeller torque & speed for hover\n",
    "n_pro_hov = np.sqrt(F_pro_hov/(C_t * rho_air *D_pro**4.)) # [Hz] hover speed\n",
    "Omega_pro_hov = n_pro_hov * 2.*np.pi # [rad/s] Propeller speed\n",
    "\n",
    "P_pro_hov = C_p * rho_air * n_pro_hov**3. * D_pro**5. # [W] Power per propeller\n",
    "T_pro_hov = P_pro_hov / Omega_pro_hov # [N*m] Propeller torque       \n",
    "U_bat_est = k_vb*1.84*P_pro_to**(0.36) # [V] battery voltage estimation\n",
    "\n",
    "\n",
    "#% MOTOR\n",
    "# --- \n",
    "T_nom_mot = k_mot * T_pro_hov   # [N*m] Motor nominal torque per propeller\n",
    "\n",
    "M_mot = M_mot_ref * (T_nom_mot/T_nom_mot_ref)**(3./3.5) # [kg] Motor mass\n",
    "\n",
    "# Selection with take-off speed\n",
    "K_mot = U_bat_est / (k_speed_mot*Omega_pro_to) # [N*m/A] or [V/(rad/s)] Kt motor\n",
    "\n",
    "R_mot = R_mot_ref * (T_nom_mot/T_nom_mot_ref)**(-5./3.5)*(K_mot/K_mot_ref)**2.  # [ohm] motor resistance\n",
    "T_mot_fr = T_mot_fr_ref * (T_nom_mot/T_nom_mot_ref)**(3./3.5) # [N*m] Friction torque\n",
    "T_max_mot = T_max_mot_ref * (T_nom_mot/T_nom_mot_ref)\n",
    "\n",
    "# Hover current and voltage\n",
    "I_mot_hov = (T_pro_hov+T_mot_fr) / K_mot # [A] Current of the motor per propeller\n",
    "U_mot_hov = R_mot*I_mot_hov + Omega_pro_hov*K_mot # [V] Voltage of the motor per propeller\n",
    "P_el_mot_hov = U_mot_hov*I_mot_hov # [W] Hover : electrical power\n",
    "\n",
    "# Takeoff current and voltage\n",
    "I_mot_to = (T_pro_to+T_mot_fr) / K_mot # [A] Current of the motor per propeller\n",
    "U_mot_to = R_mot*I_mot_to + Omega_pro_to*K_mot # [V] Voltage of the motor per propeller\n",
    "P_el_mot_to = U_mot_to*I_mot_to # [W] Takeoff : electrical power\n",
    "\n",
    "#% BATTERY\n",
    "# ---     \n",
    "# Battery selection & scaling laws sized from hover\n",
    "\n",
    "N_s_bat = U_bat_est/3.7 # Cell number, round (up value)\n",
    "U_bat = 3.7 * N_s_bat # [V] Battery voltage\n",
    "\n",
    "M_bat = k_mb * M_pay # [kg] Battery mass\n",
    "\n",
    "# Hover --> autonomy\n",
    "E_bat = E_bat_ref * M_bat/M_bat_ref*.8 # [J] Energy  of the battery (.8 coefficient because 80% use only of the total capacity)\n",
    "C_bat = E_bat/U_bat # [A*s] Capacity  of the battery \n",
    "I_bat = (P_el_mot_hov * N_pro) /.95/U_bat # [A] Current of the battery\n",
    "\n",
    "#% ESC\n",
    "P_esc = P_el_mot_to * U_bat / U_mot_to # [W] power electronic power (corner power or apparent power)\n",
    "M_esc = M_esc_ref * (P_esc/P_esc_ref) # [kg] Mass ESC\n",
    "V_esc = 1.84 * P_esc**0.36 # [V] ESC voltage        \n",
    "\n",
    "#% FRAME\n",
    "# ---\n",
    "alpha_sep = 2*np.pi / N_arm # [rad] interior angle separation between propellers\n",
    "L_arm = D_pro / (2.*np.sin(alpha_sep/2.)) # [m] length of the arm\n",
    "\n",
    "# Tube diameter & thickness\n",
    "D_out_arm = (F_pro_to*N_pro_arm/sigma_max*L_arm*32./(np.pi*(1.-(1.-2.*k_D)**4.)))**(1/3)  # [m] outer diameter of the arm (hollow cylinder)\n",
    "e_arm = k_D * D_out_arm # [m] thickness of the arm (hollow cylinder) \n",
    "D_in_arm = D_out_arm - e_arm # [m] inner diameter of the arm (hollow cylinder) \n",
    "\n",
    "# Mass\n",
    "M_arm = np.pi/4. * (D_out_arm**2.-(D_out_arm-2.*e_arm)**2)*L_arm*rho_s # [kg] mass of the arm (x1) (beams only)  composite\n",
    "M_frame = N_arm * M_arm / 0.4 # [kg] mass of the frame (40% of total mass is the arms)\n",
    "\n",
    "#% OBJECTIVES\n",
    "# ---\n",
    "t_hov = C_bat/I_bat/60. # [min] Hover time \n",
    "M_total_real=(M_esc+M_pro+M_mot)*N_pro+M_pay+M_bat+M_frame  # [kg] Total mass\n",
    "\n",
    "#% CONSTRAINTS\n",
    "cons_1 = M_total-M_total_real\n",
    "cons_2 = U_bat-U_mot_to\n",
    "cons_3 = T_max_mot-T_pro_to\n",
    "cons_4 = U_bat-V_esc\n",
    "cons_5 = V_esc-U_mot_to\n",
    "cons_6 = MTOW-M_total_real\n",
    "cons_7 = t_hov-t_hov_spec"
   ]
  },
  {
   "cell_type": "code",
   "execution_count": null,
   "id": "4a441316",
   "metadata": {},
   "outputs": [],
   "source": [
    "# Init\n",
    "Dpro_ref=11*.0254 # [m] diameter\n",
    "Mpro_ref=0.53*0.0283 # [kg] mass\n",
    "Tmot_ref=2.32  # [N.m] rated torque\n",
    "Tmot_max_ref=85/70*Tmot_ref # [N.m] max torque\n",
    "Rmot_ref=0.03  # [Ohm] resistance\n",
    "Mmot_ref=0.575 # [kg] mass\n",
    "Ktmot_ref=0.03 # [N.m/A] torque coefficient\n",
    "Tfmot_ref=0.03 # [N.m] friction torque (zero load, nominal speed) \n",
    "Mbat_ref=.329 # [kg] mass\n",
    "Cbat_ref= 3.400*3600 # [A.s] \n",
    "Vbat_ref=4*3.7 # [V] \n",
    "Imax_ref=170 # [A]\n",
    "Mfra_ref=.347 #[kg] MK7 frame\n",
    "Marm_ref=0.14#[kg] Mass of all arms\n",
    "Pesc_ref=3108 # [W] Power\n",
    "Vesc_ref=44.4 #[V]Voltage\n",
    "Mesc_ref=.115 # [kg] Mass"
   ]
  },
  {
   "cell_type": "code",
   "execution_count": null,
   "id": "2a10521e",
   "metadata": {},
   "outputs": [],
   "source": []
  }
 ],
 "metadata": {
  "kernelspec": {
   "display_name": "Python 3 (ipykernel)",
   "language": "python",
   "name": "python3"
  },
  "language_info": {
   "codemirror_mode": {
    "name": "ipython",
    "version": 3
   },
   "file_extension": ".py",
   "mimetype": "text/x-python",
   "name": "python",
   "nbconvert_exporter": "python",
   "pygments_lexer": "ipython3",
   "version": "3.8.10"
  }
 },
 "nbformat": 4,
 "nbformat_minor": 5
}
